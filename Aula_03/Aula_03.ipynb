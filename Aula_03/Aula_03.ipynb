{
 "cells": [
  {
   "cell_type": "markdown",
   "metadata": {
    "colab_type": "text",
    "id": "ZYQSrvcpoZyL"
   },
   "source": [
    "## Problema a ser resolvido:"
   ]
  },
  {
   "cell_type": "markdown",
   "metadata": {
    "colab_type": "text",
    "id": "v0-KwSpZoMpQ"
   },
   "source": [
    "## Nossa lista de arquivos de entrada"
   ]
  },
  {
   "cell_type": "markdown",
   "metadata": {
    "colab_type": "text",
    "id": "hnfrYQHPKFlL"
   },
   "source": [
    "### Arquivo pedidos.txt: lista de materiais em estoque na farma\n",
    "\n"
   ]
  },
  {
   "cell_type": "markdown",
   "metadata": {
    "colab_type": "text",
    "id": "VyMD6tTWLi72"
   },
   "source": [
    "<table class=\"table table-striped table-bordered\">\n",
    "<thead>\n",
    "<tr>\n",
    "<th style=\"text-align:center\">Cod. fornecedor</th>\n",
    "<th style=\"text-align:center\">Material</th>\n",
    "<th style=\"text-align:center\">Qtd.pedido</th>\n",
    "<th style=\"text-align:center\">Texto breve</th>\n",
    "<th style=\"text-align:center\">Qtd.estoque</th>\n",
    "</tr>\n",
    "</thead>\n",
    "<tbody>\n",
    "<tr>\n",
    "<td style=\"text-align:center\"></td>\n",
    "<td style=\"text-align:center\"></td>\n",
    "<td style=\"text-align:center\"></td>\n",
    "<td style=\"text-align:center\"></td>\n",
    "<td style=\"text-align:center\"></td>\n",
    "</tr>\n",
    "</tbody>\n",
    "</table>"
   ]
  },
  {
   "cell_type": "markdown",
   "metadata": {
    "colab_type": "text",
    "id": "Qp39KcjVKI8S"
   },
   "source": [
    "### Arquivo materiais.csv: possui toda a lista de materiais da farma"
   ]
  },
  {
   "cell_type": "markdown",
   "metadata": {
    "colab_type": "text",
    "id": "34kMCkIanz0X"
   },
   "source": [
    "### vendas1:\n"
   ]
  },
  {
   "cell_type": "code",
   "execution_count": 0,
   "metadata": {
    "colab": {},
    "colab_type": "code",
    "id": "DxJRjFzspQEF"
   },
   "outputs": [],
   "source": [
    "markdown"
   ]
  },
  {
   "cell_type": "markdown",
   "metadata": {
    "colab_type": "text",
    "id": "QRPYAPuvpSCK"
   },
   "source": [
    "renomear as minhas colunas, para padronizar os nomes entre todos os datasets:"
   ]
  },
  {
   "cell_type": "markdown",
   "metadata": {
    "colab_type": "text",
    "id": "mcjxjEEkn8rt"
   },
   "source": [
    "### Arquivo vendas2: "
   ]
  },
  {
   "cell_type": "markdown",
   "metadata": {
    "colab_type": "text",
    "id": "wlWqTYeTn_-R"
   },
   "source": [
    "## Resultado esperado:"
   ]
  },
  {
   "cell_type": "markdown",
   "metadata": {
    "colab_type": "text",
    "id": "egLzGLvtoDrN"
   },
   "source": [
    "<table class=\"table table-striped table-bordered\">\n",
    "<thead>\n",
    "<tr>\n",
    "<th style=\"text-align:center\">Cod Material</th>\n",
    "<th style=\"text-align:center\">Qtd. pedida</th>\n",
    "<th style=\"text-align:center\">Qtd. vendida</th>\n",
    "<th style=\"text-align:center\">Porcentagem</th>\n",
    "<th style=\"text-align:center\">Status</th>\n",
    "</tr>\n",
    "</thead>\n",
    "<tbody>\n",
    "<tr>\n",
    "<td style=\"text-align:center\">código do material</td>\n",
    "<td style=\"text-align:center\">quantidade pedida </td>\n",
    "<td style=\"text-align:center\">quantidade vendida</td>\n",
    "<td style=\"text-align:center\">(quantidade pedida)/(quantidade vendida)</td>\n",
    "<td style=\"text-align:center\">se % >= 1.2: gerar ALERTA!</td>\n",
    "</tr>\n",
    "</tbody>\n",
    "</table>"
   ]
  },
  {
   "cell_type": "markdown",
   "metadata": {
    "colab_type": "text",
    "id": "xBscBOMTyqXl"
   },
   "source": [
    "## Leitura dos arquivos de entrada"
   ]
  },
  {
   "cell_type": "code",
   "execution_count": 0,
   "metadata": {
    "colab": {},
    "colab_type": "code",
    "id": "O6EjBF7fypUs"
   },
   "outputs": [],
   "source": []
  },
  {
   "cell_type": "markdown",
   "metadata": {
    "colab_type": "text",
    "id": "x7BKpjoYywyl"
   },
   "source": [
    "## Tratamento de Dados"
   ]
  },
  {
   "cell_type": "code",
   "execution_count": 0,
   "metadata": {
    "colab": {},
    "colab_type": "code",
    "id": "bu3DozRky1pJ"
   },
   "outputs": [],
   "source": []
  },
  {
   "cell_type": "markdown",
   "metadata": {
    "colab_type": "text",
    "id": "mixLUAwLy2Q-"
   },
   "source": [
    "### Renomeando Colunas"
   ]
  },
  {
   "cell_type": "code",
   "execution_count": 0,
   "metadata": {
    "colab": {},
    "colab_type": "code",
    "id": "AgaDwpBFzLyi"
   },
   "outputs": [],
   "source": []
  },
  {
   "cell_type": "markdown",
   "metadata": {
    "colab_type": "text",
    "id": "ZkQH5BU7zPpa"
   },
   "source": [
    "### Deletar Colunas (?)"
   ]
  },
  {
   "cell_type": "markdown",
   "metadata": {
    "colab_type": "text",
    "id": "Wjic_GSczvp2"
   },
   "source": [
    "Ao final será preciso gerar um novo arquivo com as nossas informações padronizadas e eliminar colunas desnecessárias para a análise"
   ]
  },
  {
   "cell_type": "markdown",
   "metadata": {
    "colab_type": "text",
    "id": "TBZyU9I0z0c6"
   },
   "source": [
    "## Verificar os tipos de dados das colunas "
   ]
  }
 ],
 "metadata": {
  "colab": {
   "collapsed_sections": [],
   "name": "Aula-03.ipynb",
   "provenance": []
  },
  "kernelspec": {
   "display_name": "Python 3",
   "language": "python",
   "name": "python3"
  },
  "language_info": {
   "codemirror_mode": {
    "name": "ipython",
    "version": 3
   },
   "file_extension": ".py",
   "mimetype": "text/x-python",
   "name": "python",
   "nbconvert_exporter": "python",
   "pygments_lexer": "ipython3",
   "version": "3.6.9"
  }
 },
 "nbformat": 4,
 "nbformat_minor": 1
}
