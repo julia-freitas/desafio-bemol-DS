{
  "nbformat": 4,
  "nbformat_minor": 0,
  "metadata": {
    "colab": {
      "name": "Aula-03.ipynb",
      "provenance": [],
      "collapsed_sections": []
    },
    "kernelspec": {
      "name": "python3",
      "display_name": "Python 3"
    }
  },
  "cells": [
    {
      "cell_type": "markdown",
      "metadata": {
        "id": "wlWqTYeTn_-R",
        "colab_type": "text"
      },
      "source": [
        "## Resultado esperado:"
      ]
    },
    {
      "cell_type": "markdown",
      "metadata": {
        "id": "egLzGLvtoDrN",
        "colab_type": "text"
      },
      "source": [
        "<table class=\"table table-striped table-bordered\">\n",
        "<thead>\n",
        "<tr>\n",
        "<th style=\"text-align:center\">Cod Material</th>\n",
        "<th style=\"text-align:center\">Qtd. pedida</th>\n",
        "<th style=\"text-align:center\">Qtd. vendida</th>\n",
        "<th style=\"text-align:center\">Porcentagem</th>\n",
        "<th style=\"text-align:center\">Status</th>\n",
        "</tr>\n",
        "</thead>\n",
        "<tbody>\n",
        "<tr>\n",
        "<td style=\"text-align:center\">código do material</td>\n",
        "<td style=\"text-align:center\">quantidade pedida </td>\n",
        "<td style=\"text-align:center\">quantidade vendida</td>\n",
        "<td style=\"text-align:center\">(quantidade pedida)/(quantidade vendida)</td>\n",
        "<td style=\"text-align:center\">se % >= 1.2: gerar ALERTA!</td>\n",
        "</tr>\n",
        "</tbody>\n",
        "</table>"
      ]
    },
    {
      "cell_type": "markdown",
      "metadata": {
        "id": "wsEGiDnoKGP7",
        "colab_type": "text"
      },
      "source": [
        "## Imports das Bibliotecas"
      ]
    },
    {
      "cell_type": "code",
      "metadata": {
        "id": "ERi4AmKJKQJ7",
        "colab_type": "code",
        "colab": {}
      },
      "source": [
        "import pandas as pd"
      ],
      "execution_count": 0,
      "outputs": []
    },
    {
      "cell_type": "code",
      "metadata": {
        "id": "tEW__t7OKQMf",
        "colab_type": "code",
        "colab": {
          "base_uri": "https://localhost:8080/",
          "height": 34
        },
        "outputId": "85a4bfc7-9f98-496c-b788-15827e929442"
      },
      "source": [
        "?read_excel()\n"
      ],
      "execution_count": 55,
      "outputs": [
        {
          "output_type": "stream",
          "text": [
            "Object `read_excel` not found.\n"
          ],
          "name": "stdout"
        }
      ]
    },
    {
      "cell_type": "code",
      "metadata": {
        "id": "nFxVNiobKQQx",
        "colab_type": "code",
        "colab": {}
      },
      "source": [
        ""
      ],
      "execution_count": 0,
      "outputs": []
    },
    {
      "cell_type": "markdown",
      "metadata": {
        "id": "xBscBOMTyqXl",
        "colab_type": "text"
      },
      "source": [
        "## Leitura dos arquivos de entrada"
      ]
    },
    {
      "cell_type": "markdown",
      "metadata": {
        "id": "LR8AABomjqwu",
        "colab_type": "text"
      },
      "source": [
        "### Leitura xls e slxs: pd.read_excel(nome_arquivo, sep = separador do arquivo, skiprows = quant de linhas a serem puladas, encoding = codificacao_do_arquivo)"
      ]
    },
    {
      "cell_type": "code",
      "metadata": {
        "id": "O6EjBF7fypUs",
        "colab_type": "code",
        "colab": {}
      },
      "source": [
        "df_vendas1 = pd.read_excel(\"https://github.com/julia-freitas/desafio-bemol-DS/blob/master/Aula_03/resources/vendas_1.xlsx?raw=true\")"
      ],
      "execution_count": 0,
      "outputs": []
    },
    {
      "cell_type": "code",
      "metadata": {
        "id": "8yhO-EGBLzyk",
        "colab_type": "code",
        "colab": {
          "base_uri": "https://localhost:8080/",
          "height": 204
        },
        "outputId": "0ee0ea8c-9b4c-4b55-db3a-514053f06bde"
      },
      "source": [
        "df_vendas1.head()"
      ],
      "execution_count": 57,
      "outputs": [
        {
          "output_type": "execute_result",
          "data": {
            "text/html": [
              "<div>\n",
              "<style scoped>\n",
              "    .dataframe tbody tr th:only-of-type {\n",
              "        vertical-align: middle;\n",
              "    }\n",
              "\n",
              "    .dataframe tbody tr th {\n",
              "        vertical-align: top;\n",
              "    }\n",
              "\n",
              "    .dataframe thead th {\n",
              "        text-align: right;\n",
              "    }\n",
              "</style>\n",
              "<table border=\"1\" class=\"dataframe\">\n",
              "  <thead>\n",
              "    <tr style=\"text-align: right;\">\n",
              "      <th></th>\n",
              "      <th>Data</th>\n",
              "      <th>Material</th>\n",
              "      <th>Qtd.faturd</th>\n",
              "    </tr>\n",
              "  </thead>\n",
              "  <tbody>\n",
              "    <tr>\n",
              "      <th>0</th>\n",
              "      <td>25-04-2020</td>\n",
              "      <td>6000110</td>\n",
              "      <td>1</td>\n",
              "    </tr>\n",
              "    <tr>\n",
              "      <th>1</th>\n",
              "      <td>25-04-2020</td>\n",
              "      <td>6000129</td>\n",
              "      <td>1</td>\n",
              "    </tr>\n",
              "    <tr>\n",
              "      <th>2</th>\n",
              "      <td>25-04-2020</td>\n",
              "      <td>6000163</td>\n",
              "      <td>1</td>\n",
              "    </tr>\n",
              "    <tr>\n",
              "      <th>3</th>\n",
              "      <td>25-04-2020</td>\n",
              "      <td>6000172</td>\n",
              "      <td>1</td>\n",
              "    </tr>\n",
              "    <tr>\n",
              "      <th>4</th>\n",
              "      <td>25-04-2020</td>\n",
              "      <td>6000892</td>\n",
              "      <td>1</td>\n",
              "    </tr>\n",
              "  </tbody>\n",
              "</table>\n",
              "</div>"
            ],
            "text/plain": [
              "         Data  Material  Qtd.faturd\n",
              "0  25-04-2020   6000110           1\n",
              "1  25-04-2020   6000129           1\n",
              "2  25-04-2020   6000163           1\n",
              "3  25-04-2020   6000172           1\n",
              "4  25-04-2020   6000892           1"
            ]
          },
          "metadata": {
            "tags": []
          },
          "execution_count": 57
        }
      ]
    },
    {
      "cell_type": "code",
      "metadata": {
        "id": "ajzbqVQmJaby",
        "colab_type": "code",
        "colab": {}
      },
      "source": [
        "df_vendas2 = pd.read_excel(\"https://github.com/julia-freitas/desafio-bemol-DS/blob/master/Aula_03/resources/vendas_2.xlsx?raw=true\")"
      ],
      "execution_count": 0,
      "outputs": []
    },
    {
      "cell_type": "code",
      "metadata": {
        "id": "GtZXiXUPRDpE",
        "colab_type": "code",
        "colab": {
          "base_uri": "https://localhost:8080/",
          "height": 204
        },
        "outputId": "bb1397cd-967f-4cb3-eda3-f22c0baad972"
      },
      "source": [
        "df_vendas2.head()"
      ],
      "execution_count": 59,
      "outputs": [
        {
          "output_type": "execute_result",
          "data": {
            "text/html": [
              "<div>\n",
              "<style scoped>\n",
              "    .dataframe tbody tr th:only-of-type {\n",
              "        vertical-align: middle;\n",
              "    }\n",
              "\n",
              "    .dataframe tbody tr th {\n",
              "        vertical-align: top;\n",
              "    }\n",
              "\n",
              "    .dataframe thead th {\n",
              "        text-align: right;\n",
              "    }\n",
              "</style>\n",
              "<table border=\"1\" class=\"dataframe\">\n",
              "  <thead>\n",
              "    <tr style=\"text-align: right;\">\n",
              "      <th></th>\n",
              "      <th>Data</th>\n",
              "      <th>Material</th>\n",
              "      <th>Qtd.faturd</th>\n",
              "    </tr>\n",
              "  </thead>\n",
              "  <tbody>\n",
              "    <tr>\n",
              "      <th>0</th>\n",
              "      <td>28-04-2020</td>\n",
              "      <td>6001085</td>\n",
              "      <td>1</td>\n",
              "    </tr>\n",
              "    <tr>\n",
              "      <th>1</th>\n",
              "      <td>28-04-2020</td>\n",
              "      <td>4000020</td>\n",
              "      <td>1</td>\n",
              "    </tr>\n",
              "    <tr>\n",
              "      <th>2</th>\n",
              "      <td>28-04-2020</td>\n",
              "      <td>4000020</td>\n",
              "      <td>1</td>\n",
              "    </tr>\n",
              "    <tr>\n",
              "      <th>3</th>\n",
              "      <td>28-04-2020</td>\n",
              "      <td>4000020</td>\n",
              "      <td>1</td>\n",
              "    </tr>\n",
              "    <tr>\n",
              "      <th>4</th>\n",
              "      <td>28-04-2020</td>\n",
              "      <td>4000045</td>\n",
              "      <td>1</td>\n",
              "    </tr>\n",
              "  </tbody>\n",
              "</table>\n",
              "</div>"
            ],
            "text/plain": [
              "         Data  Material  Qtd.faturd\n",
              "0  28-04-2020   6001085           1\n",
              "1  28-04-2020   4000020           1\n",
              "2  28-04-2020   4000020           1\n",
              "3  28-04-2020   4000020           1\n",
              "4  28-04-2020   4000045           1"
            ]
          },
          "metadata": {
            "tags": []
          },
          "execution_count": 59
        }
      ]
    },
    {
      "cell_type": "code",
      "metadata": {
        "id": "Zfi7_M0DJf2I",
        "colab_type": "code",
        "colab": {}
      },
      "source": [
        "df_materiais = pd.read_csv('https://raw.githubusercontent.com/julia-freitas/desafio-bemol-DS/master/Aula_03/resources/materiais.csv', sep = ';', skiprows=0, encoding='utf-8')"
      ],
      "execution_count": 0,
      "outputs": []
    },
    {
      "cell_type": "code",
      "metadata": {
        "id": "Lmh5CoT9MWo7",
        "colab_type": "code",
        "colab": {
          "base_uri": "https://localhost:8080/",
          "height": 419
        },
        "outputId": "64942028-dce4-488a-aa59-b07921e483eb"
      },
      "source": [
        "df_materiais"
      ],
      "execution_count": 61,
      "outputs": [
        {
          "output_type": "execute_result",
          "data": {
            "text/html": [
              "<div>\n",
              "<style scoped>\n",
              "    .dataframe tbody tr th:only-of-type {\n",
              "        vertical-align: middle;\n",
              "    }\n",
              "\n",
              "    .dataframe tbody tr th {\n",
              "        vertical-align: top;\n",
              "    }\n",
              "\n",
              "    .dataframe thead th {\n",
              "        text-align: right;\n",
              "    }\n",
              "</style>\n",
              "<table border=\"1\" class=\"dataframe\">\n",
              "  <thead>\n",
              "    <tr style=\"text-align: right;\">\n",
              "      <th></th>\n",
              "      <th>Material</th>\n",
              "      <th>Texto breve material</th>\n",
              "    </tr>\n",
              "  </thead>\n",
              "  <tbody>\n",
              "    <tr>\n",
              "      <th>0</th>\n",
              "      <td>4000010</td>\n",
              "      <td>ALCACHOFRA 300MG</td>\n",
              "    </tr>\n",
              "    <tr>\n",
              "      <th>1</th>\n",
              "      <td>4000013</td>\n",
              "      <td>ANTI-SEPTICO ANESTESICO</td>\n",
              "    </tr>\n",
              "    <tr>\n",
              "      <th>2</th>\n",
              "      <td>4000014</td>\n",
              "      <td>ASSEPTCARE SOL</td>\n",
              "    </tr>\n",
              "    <tr>\n",
              "      <th>3</th>\n",
              "      <td>4000015</td>\n",
              "      <td>ASSEPTCARE SOL</td>\n",
              "    </tr>\n",
              "    <tr>\n",
              "      <th>4</th>\n",
              "      <td>4000016</td>\n",
              "      <td>BENATUX FRAMBOESA</td>\n",
              "    </tr>\n",
              "    <tr>\n",
              "      <th>...</th>\n",
              "      <td>...</td>\n",
              "      <td>...</td>\n",
              "    </tr>\n",
              "    <tr>\n",
              "      <th>4577</th>\n",
              "      <td>6001409</td>\n",
              "      <td>SABONETE LIQ</td>\n",
              "    </tr>\n",
              "    <tr>\n",
              "      <th>4578</th>\n",
              "      <td>6001410</td>\n",
              "      <td>SABONETE LIQ</td>\n",
              "    </tr>\n",
              "    <tr>\n",
              "      <th>4579</th>\n",
              "      <td>6001411</td>\n",
              "      <td>TÔNICO NIVEA</td>\n",
              "    </tr>\n",
              "    <tr>\n",
              "      <th>4580</th>\n",
              "      <td>6001412</td>\n",
              "      <td>TÔNICO NIVEA</td>\n",
              "    </tr>\n",
              "    <tr>\n",
              "      <th>4581</th>\n",
              "      <td>6001415</td>\n",
              "      <td>CHOCOLATE KINDER</td>\n",
              "    </tr>\n",
              "  </tbody>\n",
              "</table>\n",
              "<p>4582 rows × 2 columns</p>\n",
              "</div>"
            ],
            "text/plain": [
              "      Material     Texto breve material\n",
              "0      4000010         ALCACHOFRA 300MG\n",
              "1      4000013  ANTI-SEPTICO ANESTESICO\n",
              "2      4000014           ASSEPTCARE SOL\n",
              "3      4000015           ASSEPTCARE SOL\n",
              "4      4000016        BENATUX FRAMBOESA\n",
              "...        ...                      ...\n",
              "4577   6001409             SABONETE LIQ\n",
              "4578   6001410             SABONETE LIQ\n",
              "4579   6001411             TÔNICO NIVEA\n",
              "4580   6001412             TÔNICO NIVEA\n",
              "4581   6001415         CHOCOLATE KINDER\n",
              "\n",
              "[4582 rows x 2 columns]"
            ]
          },
          "metadata": {
            "tags": []
          },
          "execution_count": 61
        }
      ]
    },
    {
      "cell_type": "code",
      "metadata": {
        "id": "E5BFVZkNJaeP",
        "colab_type": "code",
        "colab": {}
      },
      "source": [
        "df_pedidos = pd.read_csv(\"https://raw.githubusercontent.com/julia-freitas/desafio-bemol-DS/master/Aula_03/resources/pedidos.txt\", sep='|', skiprows=2, encoding='latin-1' )"
      ],
      "execution_count": 0,
      "outputs": []
    },
    {
      "cell_type": "code",
      "metadata": {
        "id": "MTC45fm_Jaih",
        "colab_type": "code",
        "colab": {
          "base_uri": "https://localhost:8080/",
          "height": 419
        },
        "outputId": "7b62171e-8cf1-4cce-b22b-eb1f69b55b6c"
      },
      "source": [
        "df_pedidos"
      ],
      "execution_count": 63,
      "outputs": [
        {
          "output_type": "execute_result",
          "data": {
            "text/html": [
              "<div>\n",
              "<style scoped>\n",
              "    .dataframe tbody tr th:only-of-type {\n",
              "        vertical-align: middle;\n",
              "    }\n",
              "\n",
              "    .dataframe tbody tr th {\n",
              "        vertical-align: top;\n",
              "    }\n",
              "\n",
              "    .dataframe thead th {\n",
              "        text-align: right;\n",
              "    }\n",
              "</style>\n",
              "<table border=\"1\" class=\"dataframe\">\n",
              "  <thead>\n",
              "    <tr style=\"text-align: right;\">\n",
              "      <th></th>\n",
              "      <th>Cod. fornecedor</th>\n",
              "      <th>Material</th>\n",
              "      <th>Qtd.pedido</th>\n",
              "      <th>Texto breve</th>\n",
              "      <th>Qtd.estoque</th>\n",
              "    </tr>\n",
              "  </thead>\n",
              "  <tbody>\n",
              "    <tr>\n",
              "      <th>0</th>\n",
              "      <td>3593</td>\n",
              "      <td>4003232.0</td>\n",
              "      <td>120</td>\n",
              "      <td>FLUCANIL 150MG</td>\n",
              "      <td>12</td>\n",
              "    </tr>\n",
              "    <tr>\n",
              "      <th>1</th>\n",
              "      <td>3593</td>\n",
              "      <td>4005091.0</td>\n",
              "      <td>60</td>\n",
              "      <td>BETRICORT CREME</td>\n",
              "      <td>6</td>\n",
              "    </tr>\n",
              "    <tr>\n",
              "      <th>2</th>\n",
              "      <td>3593</td>\n",
              "      <td>4003225.0</td>\n",
              "      <td>51</td>\n",
              "      <td>COLIRIO GEOLAB</td>\n",
              "      <td>5</td>\n",
              "    </tr>\n",
              "    <tr>\n",
              "      <th>3</th>\n",
              "      <td>3593</td>\n",
              "      <td>4003251.0</td>\n",
              "      <td>60</td>\n",
              "      <td>MIZONOL CREME</td>\n",
              "      <td>6</td>\n",
              "    </tr>\n",
              "    <tr>\n",
              "      <th>4</th>\n",
              "      <td>3593</td>\n",
              "      <td>4001716.0</td>\n",
              "      <td>20</td>\n",
              "      <td>GINO-COLON TUBO</td>\n",
              "      <td>2</td>\n",
              "    </tr>\n",
              "    <tr>\n",
              "      <th>...</th>\n",
              "      <td>...</td>\n",
              "      <td>...</td>\n",
              "      <td>...</td>\n",
              "      <td>...</td>\n",
              "      <td>...</td>\n",
              "    </tr>\n",
              "    <tr>\n",
              "      <th>1064</th>\n",
              "      <td>4239</td>\n",
              "      <td>4000333.0</td>\n",
              "      <td>1</td>\n",
              "      <td>CRESTOR 10MG</td>\n",
              "      <td>0</td>\n",
              "    </tr>\n",
              "    <tr>\n",
              "      <th>1065</th>\n",
              "      <td>4239</td>\n",
              "      <td>4003698.0</td>\n",
              "      <td>1</td>\n",
              "      <td>PANTOGAR C/90CP</td>\n",
              "      <td>0</td>\n",
              "    </tr>\n",
              "    <tr>\n",
              "      <th>1066</th>\n",
              "      <td>4239</td>\n",
              "      <td>4000359.0</td>\n",
              "      <td>1</td>\n",
              "      <td>XARELTO 15MG</td>\n",
              "      <td>0</td>\n",
              "    </tr>\n",
              "    <tr>\n",
              "      <th>1067</th>\n",
              "      <td>4239</td>\n",
              "      <td>4005114.0</td>\n",
              "      <td>1</td>\n",
              "      <td>ARADOIS H</td>\n",
              "      <td>0</td>\n",
              "    </tr>\n",
              "    <tr>\n",
              "      <th>1068</th>\n",
              "      <td>4239</td>\n",
              "      <td>4003731.0</td>\n",
              "      <td>1</td>\n",
              "      <td>DIOVAN 160MG</td>\n",
              "      <td>0</td>\n",
              "    </tr>\n",
              "  </tbody>\n",
              "</table>\n",
              "<p>1069 rows × 5 columns</p>\n",
              "</div>"
            ],
            "text/plain": [
              "      Cod. fornecedor   Material  Qtd.pedido      Texto breve  Qtd.estoque\n",
              "0                3593  4003232.0         120   FLUCANIL 150MG           12\n",
              "1                3593  4005091.0          60  BETRICORT CREME            6\n",
              "2                3593  4003225.0          51   COLIRIO GEOLAB            5\n",
              "3                3593  4003251.0          60    MIZONOL CREME            6\n",
              "4                3593  4001716.0          20  GINO-COLON TUBO            2\n",
              "...               ...        ...         ...              ...          ...\n",
              "1064             4239  4000333.0           1     CRESTOR 10MG            0\n",
              "1065             4239  4003698.0           1  PANTOGAR C/90CP            0\n",
              "1066             4239  4000359.0           1     XARELTO 15MG            0\n",
              "1067             4239  4005114.0           1        ARADOIS H            0\n",
              "1068             4239  4003731.0           1     DIOVAN 160MG            0\n",
              "\n",
              "[1069 rows x 5 columns]"
            ]
          },
          "metadata": {
            "tags": []
          },
          "execution_count": 63
        }
      ]
    },
    {
      "cell_type": "markdown",
      "metadata": {
        "id": "x7BKpjoYywyl",
        "colab_type": "text"
      },
      "source": [
        "## Tratamento de Dados"
      ]
    },
    {
      "cell_type": "code",
      "metadata": {
        "id": "bu3DozRky1pJ",
        "colab_type": "code",
        "colab": {}
      },
      "source": [
        ""
      ],
      "execution_count": 0,
      "outputs": []
    },
    {
      "cell_type": "markdown",
      "metadata": {
        "id": "mixLUAwLy2Q-",
        "colab_type": "text"
      },
      "source": [
        "### Renomeando Colunas"
      ]
    },
    {
      "cell_type": "markdown",
      "metadata": {
        "id": "8jrmOuJan0aG",
        "colab_type": "text"
      },
      "source": [
        "Resultado Esperado:"
      ]
    },
    {
      "cell_type": "markdown",
      "metadata": {
        "id": "EhdpO9tyn5xB",
        "colab_type": "text"
      },
      "source": [
        "<table class=\"table table-striped table-bordered\">\n",
        "<thead>\n",
        "<tr>\n",
        "<th style=\"text-align:center\">Cod. Material</th>\n",
        "<th style=\"text-align:center\">Qtd. pedida</th>\n",
        "<th style=\"text-align:center\">Qtd. vendida</th>\n",
        "<th style=\"text-align:center\">Porcentagem</th>\n",
        "<th style=\"text-align:center\">Status</th>\n",
        "</tr>\n",
        "</thead>\n",
        "<tbody>\n",
        "<tr>\n",
        "<td style=\"text-align:center\">código do material</td>\n",
        "<td style=\"text-align:center\">quantidade pedida </td>\n",
        "<td style=\"text-align:center\">quantidade vendida</td>\n",
        "<td style=\"text-align:center\">(quantidade pedida)/(quantidade vendida)</td>\n",
        "<td style=\"text-align:center\">se % >= 1.2: gerar ALERTA!</td>\n",
        "</tr>\n",
        "</tbody>\n",
        "</table>"
      ]
    },
    {
      "cell_type": "code",
      "metadata": {
        "id": "rQOg7BUvTX-O",
        "colab_type": "code",
        "colab": {}
      },
      "source": [
        "df_vendas1.rename(columns={'Qtd.faturd':'Qtd. vendida', 'Material': 'Cod. Material'}, inplace='True')\n",
        "df_vendas2.rename(columns={'Qtd.faturd':'Qtd. vendida', 'Material': 'Cod. Material'}, inplace='True')\n",
        "\n",
        "df_materiais.rename(columns={'Material': 'Cod. Material', 'Texto breve material':'Texto breve'}, inplace='True')\n",
        "df_pedidos.rename(columns={'Material': 'Cod. Material', 'Qtd.pedido':'Qtd. pedida'}, inplace='True')"
      ],
      "execution_count": 0,
      "outputs": []
    },
    {
      "cell_type": "code",
      "metadata": {
        "id": "iH900-5TTYCv",
        "colab_type": "code",
        "colab": {}
      },
      "source": [
        ""
      ],
      "execution_count": 0,
      "outputs": []
    },
    {
      "cell_type": "code",
      "metadata": {
        "id": "asj7_y-aTX8T",
        "colab_type": "code",
        "colab": {
          "base_uri": "https://localhost:8080/",
          "height": 221
        },
        "outputId": "02edb815-ea24-451d-bab1-b6e26ad746b5"
      },
      "source": [
        "print(df_vendas1.columns)\n",
        "print(df_vendas2.columns)\n",
        "\n",
        "print(df_materiais.columns)\n",
        "print(df_pedidos.columns)"
      ],
      "execution_count": 71,
      "outputs": [
        {
          "output_type": "stream",
          "text": [
            "Index(['Data', 'Cod Material', 'Qtd. vendida'], dtype='object')\n",
            "Index(['Data', 'Cod Material', 'Qtd. vendida'], dtype='object')\n",
            "Index(['Cod Material', 'Texto breve'], dtype='object')\n",
            "Index(['Cod. fornecedor', 'Cod Material', 'Qtd. pedida', 'Texto breve',\n",
            "       'Qtd.estoque'],\n",
            "      dtype='object')\n",
            "Index(['Data', 'Cod Material', 'Qtd. vendida'], dtype='object')\n",
            "Index(['Data', 'Cod Material', 'Qtd. vendida'], dtype='object')\n",
            "Index(['Cod Material', 'Texto breve'], dtype='object')\n",
            "Index(['Cod. fornecedor', 'Cod Material', 'Qtd. pedida', 'Texto breve',\n",
            "       'Qtd.estoque'],\n",
            "      dtype='object')\n"
          ],
          "name": "stdout"
        }
      ]
    },
    {
      "cell_type": "markdown",
      "metadata": {
        "id": "ZkQH5BU7zPpa",
        "colab_type": "text"
      },
      "source": [
        "### Deletar Colunas (?)"
      ]
    },
    {
      "cell_type": "markdown",
      "metadata": {
        "id": "Wjic_GSczvp2",
        "colab_type": "text"
      },
      "source": [
        "Ao final será preciso gerar um novo arquivo com as nossas informações padronizadas e eliminar colunas desnecessárias para a análise"
      ]
    },
    {
      "cell_type": "markdown",
      "metadata": {
        "id": "nUw4mSaWIiG8",
        "colab_type": "text"
      },
      "source": [
        "### Alterar os tipos categóricos para numéricos"
      ]
    },
    {
      "cell_type": "code",
      "metadata": {
        "id": "B5OyaBNsVz7D",
        "colab_type": "code",
        "colab": {}
      },
      "source": [
        ""
      ],
      "execution_count": 0,
      "outputs": []
    },
    {
      "cell_type": "code",
      "metadata": {
        "id": "nQJMOfGBVz_c",
        "colab_type": "code",
        "colab": {}
      },
      "source": [
        ""
      ],
      "execution_count": 0,
      "outputs": []
    },
    {
      "cell_type": "code",
      "metadata": {
        "id": "OnlMhaK6V0cn",
        "colab_type": "code",
        "colab": {}
      },
      "source": [
        ""
      ],
      "execution_count": 0,
      "outputs": []
    },
    {
      "cell_type": "markdown",
      "metadata": {
        "id": "U8xZz1VlIiRU",
        "colab_type": "text"
      },
      "source": [
        "### Agrupamento de Dados"
      ]
    },
    {
      "cell_type": "code",
      "metadata": {
        "id": "OF9glyBFfbQk",
        "colab_type": "code",
        "colab": {}
      },
      "source": [
        ""
      ],
      "execution_count": 0,
      "outputs": []
    },
    {
      "cell_type": "markdown",
      "metadata": {
        "id": "wQxeVPZQcgMU",
        "colab_type": "text"
      },
      "source": [
        "Precisamos agrupar por 'Data' e depois por 'Material', salvar a quantidade de ocorrencias de cada material numa nova coluna 'Quantidade'"
      ]
    },
    {
      "cell_type": "code",
      "metadata": {
        "id": "hK8iuPuWXlTo",
        "colab_type": "code",
        "colab": {
          "base_uri": "https://localhost:8080/",
          "height": 329
        },
        "outputId": "320b0b9b-f810-4d2e-aec6-d8ac3daa7751"
      },
      "source": [
        "vendas1.groupby('Material').resample('1D')"
      ],
      "execution_count": 43,
      "outputs": [
        {
          "output_type": "error",
          "ename": "TypeError",
          "evalue": "ignored",
          "traceback": [
            "\u001b[0;31m---------------------------------------------------------------------------\u001b[0m",
            "\u001b[0;31mTypeError\u001b[0m                                 Traceback (most recent call last)",
            "\u001b[0;32m<ipython-input-43-c6410aad3832>\u001b[0m in \u001b[0;36m<module>\u001b[0;34m()\u001b[0m\n\u001b[0;32m----> 1\u001b[0;31m \u001b[0mvendas1\u001b[0m\u001b[0;34m.\u001b[0m\u001b[0mgroupby\u001b[0m\u001b[0;34m(\u001b[0m\u001b[0;34m'Material'\u001b[0m\u001b[0;34m)\u001b[0m\u001b[0;34m.\u001b[0m\u001b[0mresample\u001b[0m\u001b[0;34m(\u001b[0m\u001b[0;34m'1D'\u001b[0m\u001b[0;34m)\u001b[0m\u001b[0;34m\u001b[0m\u001b[0;34m\u001b[0m\u001b[0m\n\u001b[0m",
            "\u001b[0;32m/usr/local/lib/python3.6/dist-packages/pandas/core/groupby/groupby.py\u001b[0m in \u001b[0;36mresample\u001b[0;34m(self, rule, *args, **kwargs)\u001b[0m\n\u001b[1;32m   1556\u001b[0m         \u001b[0;32mfrom\u001b[0m \u001b[0mpandas\u001b[0m\u001b[0;34m.\u001b[0m\u001b[0mcore\u001b[0m\u001b[0;34m.\u001b[0m\u001b[0mresample\u001b[0m \u001b[0;32mimport\u001b[0m \u001b[0mget_resampler_for_grouping\u001b[0m\u001b[0;34m\u001b[0m\u001b[0;34m\u001b[0m\u001b[0m\n\u001b[1;32m   1557\u001b[0m \u001b[0;34m\u001b[0m\u001b[0m\n\u001b[0;32m-> 1558\u001b[0;31m         \u001b[0;32mreturn\u001b[0m \u001b[0mget_resampler_for_grouping\u001b[0m\u001b[0;34m(\u001b[0m\u001b[0mself\u001b[0m\u001b[0;34m,\u001b[0m \u001b[0mrule\u001b[0m\u001b[0;34m,\u001b[0m \u001b[0;34m*\u001b[0m\u001b[0margs\u001b[0m\u001b[0;34m,\u001b[0m \u001b[0;34m**\u001b[0m\u001b[0mkwargs\u001b[0m\u001b[0;34m)\u001b[0m\u001b[0;34m\u001b[0m\u001b[0;34m\u001b[0m\u001b[0m\n\u001b[0m\u001b[1;32m   1559\u001b[0m \u001b[0;34m\u001b[0m\u001b[0m\n\u001b[1;32m   1560\u001b[0m     \u001b[0;34m@\u001b[0m\u001b[0mSubstitution\u001b[0m\u001b[0;34m(\u001b[0m\u001b[0mname\u001b[0m\u001b[0;34m=\u001b[0m\u001b[0;34m\"groupby\"\u001b[0m\u001b[0;34m)\u001b[0m\u001b[0;34m\u001b[0m\u001b[0;34m\u001b[0m\u001b[0m\n",
            "\u001b[0;32m/usr/local/lib/python3.6/dist-packages/pandas/core/resample.py\u001b[0m in \u001b[0;36mget_resampler_for_grouping\u001b[0;34m(groupby, rule, how, fill_method, limit, kind, **kwargs)\u001b[0m\n\u001b[1;32m   1285\u001b[0m \u001b[0;34m\u001b[0m\u001b[0m\n\u001b[1;32m   1286\u001b[0m     \u001b[0mtg\u001b[0m \u001b[0;34m=\u001b[0m \u001b[0mTimeGrouper\u001b[0m\u001b[0;34m(\u001b[0m\u001b[0mfreq\u001b[0m\u001b[0;34m=\u001b[0m\u001b[0mrule\u001b[0m\u001b[0;34m,\u001b[0m \u001b[0;34m**\u001b[0m\u001b[0mkwargs\u001b[0m\u001b[0;34m)\u001b[0m\u001b[0;34m\u001b[0m\u001b[0;34m\u001b[0m\u001b[0m\n\u001b[0;32m-> 1287\u001b[0;31m     \u001b[0mresampler\u001b[0m \u001b[0;34m=\u001b[0m \u001b[0mtg\u001b[0m\u001b[0;34m.\u001b[0m\u001b[0m_get_resampler\u001b[0m\u001b[0;34m(\u001b[0m\u001b[0mgroupby\u001b[0m\u001b[0;34m.\u001b[0m\u001b[0mobj\u001b[0m\u001b[0;34m,\u001b[0m \u001b[0mkind\u001b[0m\u001b[0;34m=\u001b[0m\u001b[0mkind\u001b[0m\u001b[0;34m)\u001b[0m\u001b[0;34m\u001b[0m\u001b[0;34m\u001b[0m\u001b[0m\n\u001b[0m\u001b[1;32m   1288\u001b[0m     \u001b[0;32mreturn\u001b[0m \u001b[0mresampler\u001b[0m\u001b[0;34m.\u001b[0m\u001b[0m_get_resampler_for_grouping\u001b[0m\u001b[0;34m(\u001b[0m\u001b[0mgroupby\u001b[0m\u001b[0;34m=\u001b[0m\u001b[0mgroupby\u001b[0m\u001b[0;34m)\u001b[0m\u001b[0;34m\u001b[0m\u001b[0;34m\u001b[0m\u001b[0m\n\u001b[1;32m   1289\u001b[0m \u001b[0;34m\u001b[0m\u001b[0m\n",
            "\u001b[0;32m/usr/local/lib/python3.6/dist-packages/pandas/core/resample.py\u001b[0m in \u001b[0;36m_get_resampler\u001b[0;34m(self, obj, kind)\u001b[0m\n\u001b[1;32m   1402\u001b[0m \u001b[0;34m\u001b[0m\u001b[0m\n\u001b[1;32m   1403\u001b[0m         raise TypeError(\n\u001b[0;32m-> 1404\u001b[0;31m             \u001b[0;34m\"Only valid with DatetimeIndex, \"\u001b[0m\u001b[0;34m\u001b[0m\u001b[0;34m\u001b[0m\u001b[0m\n\u001b[0m\u001b[1;32m   1405\u001b[0m             \u001b[0;34m\"TimedeltaIndex or PeriodIndex, \"\u001b[0m\u001b[0;34m\u001b[0m\u001b[0;34m\u001b[0m\u001b[0m\n\u001b[1;32m   1406\u001b[0m             \u001b[0;34mf\"but got an instance of '{type(ax).__name__}'\"\u001b[0m\u001b[0;34m\u001b[0m\u001b[0;34m\u001b[0m\u001b[0m\n",
            "\u001b[0;31mTypeError\u001b[0m: Only valid with DatetimeIndex, TimedeltaIndex or PeriodIndex, but got an instance of 'RangeIndex'"
          ]
        }
      ]
    },
    {
      "cell_type": "code",
      "metadata": {
        "id": "boZYb5YnXlWL",
        "colab_type": "code",
        "colab": {}
      },
      "source": [
        ""
      ],
      "execution_count": 0,
      "outputs": []
    },
    {
      "cell_type": "code",
      "metadata": {
        "id": "gEE0CJNcXlZO",
        "colab_type": "code",
        "colab": {}
      },
      "source": [
        ""
      ],
      "execution_count": 0,
      "outputs": []
    },
    {
      "cell_type": "markdown",
      "metadata": {
        "id": "V1POoSx4XjV1",
        "colab_type": "text"
      },
      "source": [
        "### Correlação de Tabelas"
      ]
    },
    {
      "cell_type": "code",
      "metadata": {
        "id": "n3J4uG1WTn5W",
        "colab_type": "code",
        "colab": {}
      },
      "source": [
        "#### De vendas1 e vendas2"
      ],
      "execution_count": 0,
      "outputs": []
    },
    {
      "cell_type": "code",
      "metadata": {
        "id": "H9WPSkobUpAo",
        "colab_type": "code",
        "colab": {
          "base_uri": "https://localhost:8080/",
          "height": 51
        },
        "outputId": "0a688d94-c0eb-4c9a-a311-ece71f6a851f"
      },
      "source": [
        "print(vendas1.columns)\n",
        "print(vendas1.shape)"
      ],
      "execution_count": 34,
      "outputs": [
        {
          "output_type": "stream",
          "text": [
            "Index(['Data', 'Material', 'Qtd.faturd'], dtype='object')\n",
            "(8657, 3)\n"
          ],
          "name": "stdout"
        }
      ]
    },
    {
      "cell_type": "code",
      "metadata": {
        "id": "6be2vnSvUo3u",
        "colab_type": "code",
        "colab": {
          "base_uri": "https://localhost:8080/",
          "height": 51
        },
        "outputId": "2563ba35-d1fc-4d89-a752-f4e8ab4c4dcd"
      },
      "source": [
        "print(vendas2.columns)\n",
        "print(vendas2.shape)"
      ],
      "execution_count": 33,
      "outputs": [
        {
          "output_type": "stream",
          "text": [
            "Index(['Data', 'Material', 'Qtd.faturd'], dtype='object')\n",
            "(8144, 3)\n"
          ],
          "name": "stdout"
        }
      ]
    },
    {
      "cell_type": "markdown",
      "metadata": {
        "id": "-Z6OSsqqVF26",
        "colab_type": "text"
      },
      "source": [
        "Ao verificar que os dois datasets tem a mesma quantidade de colunas, e que por sua vez apresentam os mesmos nomes de colunas, é possível fazer a concatenação dos datasets"
      ]
    },
    {
      "cell_type": "code",
      "metadata": {
        "id": "-NEsmnrdTn8C",
        "colab_type": "code",
        "colab": {
          "base_uri": "https://localhost:8080/",
          "height": 419
        },
        "outputId": "6994ffb8-9e09-46cf-a5c8-cc90559cfaf6"
      },
      "source": [
        "vendas = pd.concat([vendas1, vendas2])\n",
        "display(vendas)"
      ],
      "execution_count": 39,
      "outputs": [
        {
          "output_type": "display_data",
          "data": {
            "text/html": [
              "<div>\n",
              "<style scoped>\n",
              "    .dataframe tbody tr th:only-of-type {\n",
              "        vertical-align: middle;\n",
              "    }\n",
              "\n",
              "    .dataframe tbody tr th {\n",
              "        vertical-align: top;\n",
              "    }\n",
              "\n",
              "    .dataframe thead th {\n",
              "        text-align: right;\n",
              "    }\n",
              "</style>\n",
              "<table border=\"1\" class=\"dataframe\">\n",
              "  <thead>\n",
              "    <tr style=\"text-align: right;\">\n",
              "      <th></th>\n",
              "      <th>Data</th>\n",
              "      <th>Material</th>\n",
              "      <th>Qtd.faturd</th>\n",
              "    </tr>\n",
              "  </thead>\n",
              "  <tbody>\n",
              "    <tr>\n",
              "      <th>0</th>\n",
              "      <td>25-04-2020</td>\n",
              "      <td>6000110</td>\n",
              "      <td>1</td>\n",
              "    </tr>\n",
              "    <tr>\n",
              "      <th>1</th>\n",
              "      <td>25-04-2020</td>\n",
              "      <td>6000129</td>\n",
              "      <td>1</td>\n",
              "    </tr>\n",
              "    <tr>\n",
              "      <th>2</th>\n",
              "      <td>25-04-2020</td>\n",
              "      <td>6000163</td>\n",
              "      <td>1</td>\n",
              "    </tr>\n",
              "    <tr>\n",
              "      <th>3</th>\n",
              "      <td>25-04-2020</td>\n",
              "      <td>6000172</td>\n",
              "      <td>1</td>\n",
              "    </tr>\n",
              "    <tr>\n",
              "      <th>4</th>\n",
              "      <td>25-04-2020</td>\n",
              "      <td>6000892</td>\n",
              "      <td>1</td>\n",
              "    </tr>\n",
              "    <tr>\n",
              "      <th>...</th>\n",
              "      <td>...</td>\n",
              "      <td>...</td>\n",
              "      <td>...</td>\n",
              "    </tr>\n",
              "    <tr>\n",
              "      <th>8139</th>\n",
              "      <td>30-04-2020</td>\n",
              "      <td>6000768</td>\n",
              "      <td>1</td>\n",
              "    </tr>\n",
              "    <tr>\n",
              "      <th>8140</th>\n",
              "      <td>30-04-2020</td>\n",
              "      <td>6000839</td>\n",
              "      <td>1</td>\n",
              "    </tr>\n",
              "    <tr>\n",
              "      <th>8141</th>\n",
              "      <td>30-04-2020</td>\n",
              "      <td>6000843</td>\n",
              "      <td>1</td>\n",
              "    </tr>\n",
              "    <tr>\n",
              "      <th>8142</th>\n",
              "      <td>30-04-2020</td>\n",
              "      <td>6000969</td>\n",
              "      <td>1</td>\n",
              "    </tr>\n",
              "    <tr>\n",
              "      <th>8143</th>\n",
              "      <td>30-04-2020</td>\n",
              "      <td>6000400</td>\n",
              "      <td>1</td>\n",
              "    </tr>\n",
              "  </tbody>\n",
              "</table>\n",
              "<p>16801 rows × 3 columns</p>\n",
              "</div>"
            ],
            "text/plain": [
              "            Data  Material  Qtd.faturd\n",
              "0     25-04-2020   6000110           1\n",
              "1     25-04-2020   6000129           1\n",
              "2     25-04-2020   6000163           1\n",
              "3     25-04-2020   6000172           1\n",
              "4     25-04-2020   6000892           1\n",
              "...          ...       ...         ...\n",
              "8139  30-04-2020   6000768           1\n",
              "8140  30-04-2020   6000839           1\n",
              "8141  30-04-2020   6000843           1\n",
              "8142  30-04-2020   6000969           1\n",
              "8143  30-04-2020   6000400           1\n",
              "\n",
              "[16801 rows x 3 columns]"
            ]
          },
          "metadata": {
            "tags": []
          }
        }
      ]
    },
    {
      "cell_type": "code",
      "metadata": {
        "id": "PntE6V8LTn_I",
        "colab_type": "code",
        "colab": {}
      },
      "source": [
        ""
      ],
      "execution_count": 0,
      "outputs": []
    },
    {
      "cell_type": "code",
      "metadata": {
        "id": "PGoRcz1IToDI",
        "colab_type": "code",
        "colab": {}
      },
      "source": [
        ""
      ],
      "execution_count": 0,
      "outputs": []
    },
    {
      "cell_type": "markdown",
      "metadata": {
        "id": "b9JlRTi5I7j4",
        "colab_type": "text"
      },
      "source": [
        "## Exportando arquivo com a concatenação das tabelas"
      ]
    },
    {
      "cell_type": "markdown",
      "metadata": {
        "id": "2dwQ9omGIiWg",
        "colab_type": "text"
      },
      "source": [
        "## Análise dos Dados"
      ]
    },
    {
      "cell_type": "markdown",
      "metadata": {
        "id": "LINcLU5_IiZZ",
        "colab_type": "text"
      },
      "source": [
        ""
      ]
    },
    {
      "cell_type": "markdown",
      "metadata": {
        "id": "JWnOkowHIidp",
        "colab_type": "text"
      },
      "source": [
        ""
      ]
    }
  ]
}